{
  "nbformat": 4,
  "nbformat_minor": 0,
  "metadata": {
    "colab": {
      "name": "HW1_ZabavaKV.ipynb",
      "provenance": [],
      "collapsed_sections": [],
      "authorship_tag": "ABX9TyN0lA/sZmywD9jqa5Badmw4",
      "include_colab_link": true
    },
    "kernelspec": {
      "name": "python3",
      "display_name": "Python 3"
    }
  },
  "cells": [
    {
      "cell_type": "markdown",
      "metadata": {
        "id": "view-in-github",
        "colab_type": "text"
      },
      "source": [
        "<a href=\"https://colab.research.google.com/github/St-Jester/AutoMLHW1/blob/master/HW1_ZabavaKV.ipynb\" target=\"_parent\"><img src=\"https://colab.research.google.com/assets/colab-badge.svg\" alt=\"Open In Colab\"/></a>"
      ]
    },
    {
      "cell_type": "code",
      "metadata": {
        "id": "yf4_HhQCBBgh",
        "colab_type": "code",
        "colab": {}
      },
      "source": [
        "import numpy as np\n",
        "import matplotlib.pyplot as plt\n",
        "import sklearn\n",
        "from sklearn.datasets import load_diabetes\n",
        "from sklearn.ensemble import RandomForestRegressor\n",
        "from sklearn.model_selection import cross_val_score\n"
      ],
      "execution_count": 0,
      "outputs": []
    },
    {
      "cell_type": "code",
      "metadata": {
        "id": "kOT1m5SMBEAp",
        "colab_type": "code",
        "colab": {}
      },
      "source": [
        "X, y = load_diabetes(return_X_y = True)"
      ],
      "execution_count": 0,
      "outputs": []
    },
    {
      "cell_type": "code",
      "metadata": {
        "id": "qXSdLScLUkeT",
        "colab_type": "code",
        "outputId": "7994e712-ad13-4c33-e6c9-354b17cabc24",
        "colab": {
          "base_uri": "https://localhost:8080/",
          "height": 136
        }
      },
      "source": [
        "reg = RandomForestRegressor()\n",
        "reg.fit(X,y)"
      ],
      "execution_count": 3,
      "outputs": [
        {
          "output_type": "execute_result",
          "data": {
            "text/plain": [
              "RandomForestRegressor(bootstrap=True, ccp_alpha=0.0, criterion='mse',\n",
              "                      max_depth=None, max_features='auto', max_leaf_nodes=None,\n",
              "                      max_samples=None, min_impurity_decrease=0.0,\n",
              "                      min_impurity_split=None, min_samples_leaf=1,\n",
              "                      min_samples_split=2, min_weight_fraction_leaf=0.0,\n",
              "                      n_estimators=100, n_jobs=None, oob_score=False,\n",
              "                      random_state=None, verbose=0, warm_start=False)"
            ]
          },
          "metadata": {
            "tags": []
          },
          "execution_count": 3
        }
      ]
    },
    {
      "cell_type": "code",
      "metadata": {
        "id": "89DRsvKGntiL",
        "colab_type": "code",
        "colab": {
          "base_uri": "https://localhost:8080/",
          "height": 51
        },
        "outputId": "b9319169-e525-42d5-a879-953845709e12"
      },
      "source": [
        "X[0]"
      ],
      "execution_count": 46,
      "outputs": [
        {
          "output_type": "execute_result",
          "data": {
            "text/plain": [
              "array([ 0.03807591,  0.05068012,  0.06169621,  0.02187235, -0.0442235 ,\n",
              "       -0.03482076, -0.04340085, -0.00259226,  0.01990842, -0.01764613])"
            ]
          },
          "metadata": {
            "tags": []
          },
          "execution_count": 46
        }
      ]
    },
    {
      "cell_type": "code",
      "metadata": {
        "id": "AiLKUI0KBKeN",
        "colab_type": "code",
        "colab": {}
      },
      "source": [
        "# hyperparameters: max_depth, n_estimators, max_features."
      ],
      "execution_count": 0,
      "outputs": []
    },
    {
      "cell_type": "code",
      "metadata": {
        "id": "GClrqJBmBGkI",
        "colab_type": "code",
        "colab": {}
      },
      "source": [
        "\n",
        "#try different methods to find the bet that minimizes L(params)\n",
        "def L(hyperparam_arr):  \n",
        "    print(hyperparam_arr) \n",
        "    reg = RandomForestRegressor(max_depth = int(hyperparam_arr[0][0]), n_estimators = int(hyperparam_arr[0][1]),max_features = int(hyperparam_arr[0][2]) )\n",
        "    reg.fit(X,y)\n",
        "    score = cross_val_score(reg, X,y, scoring='neg_mean_squared_error').mean()\n",
        "    score = np.array(score)\n",
        "    return score"
      ],
      "execution_count": 0,
      "outputs": []
    },
    {
      "cell_type": "code",
      "metadata": {
        "id": "I5k5ChCGBM8Z",
        "colab_type": "code",
        "colab": {}
      },
      "source": [
        "from sklearn.model_selection import RandomizedSearchCV, GridSearchCV\n",
        "from scipy.stats import uniform"
      ],
      "execution_count": 0,
      "outputs": []
    },
    {
      "cell_type": "code",
      "metadata": {
        "id": "Ll9l2vZ2BO-Z",
        "colab_type": "code",
        "outputId": "c89c2e0b-6f0f-439e-ccd9-032d65dd8890",
        "colab": {
          "base_uri": "https://localhost:8080/",
          "height": 408
        }
      },
      "source": [
        "param_dist = {'max_depth': np.append(np.arange(start = 10,stop = 110,step=20),None),\n",
        "              'n_estimators': np.arange(start = 80,stop = 160,step=5), \n",
        "              'max_features':np.arange(start = 0,stop = 10,step=1)}\n",
        "rs = RandomizedSearchCV(reg, param_distributions=param_dist, scoring='neg_mean_squared_error', n_iter=25)\n",
        "rs.fit(X,y)"
      ],
      "execution_count": 67,
      "outputs": [
        {
          "output_type": "execute_result",
          "data": {
            "text/plain": [
              "RandomizedSearchCV(cv=None, error_score=nan,\n",
              "                   estimator=RandomForestRegressor(bootstrap=True,\n",
              "                                                   ccp_alpha=0.0,\n",
              "                                                   criterion='mse',\n",
              "                                                   max_depth=None,\n",
              "                                                   max_features='auto',\n",
              "                                                   max_leaf_nodes=None,\n",
              "                                                   max_samples=None,\n",
              "                                                   min_impurity_decrease=0.0,\n",
              "                                                   min_impurity_split=None,\n",
              "                                                   min_samples_leaf=1,\n",
              "                                                   min_samples_split=2,\n",
              "                                                   min_weight_fraction_leaf=0.0,\n",
              "                                                   n_estimators=100,\n",
              "                                                   n_jobs=None, oob_score=F...\n",
              "                   iid='deprecated', n_iter=25, n_jobs=None,\n",
              "                   param_distributions={'max_depth': array([10, 30, 50, 70, 90, None], dtype=object),\n",
              "                                        'max_features': array([0, 1, 2, 3, 4, 5, 6, 7, 8, 9]),\n",
              "                                        'n_estimators': array([ 80,  85,  90,  95, 100, 105, 110, 115, 120, 125, 130, 135, 140,\n",
              "       145, 150, 155])},\n",
              "                   pre_dispatch='2*n_jobs', random_state=None, refit=True,\n",
              "                   return_train_score=False, scoring='neg_mean_squared_error',\n",
              "                   verbose=0)"
            ]
          },
          "metadata": {
            "tags": []
          },
          "execution_count": 67
        }
      ]
    },
    {
      "cell_type": "code",
      "metadata": {
        "id": "viyU1oGwVjY3",
        "colab_type": "code",
        "outputId": "eedefaba-e9a4-4210-b5b8-3cddd22c2f1a",
        "colab": {
          "base_uri": "https://localhost:8080/",
          "height": 295
        }
      },
      "source": [
        "\n",
        "y_rs = np.maximum.accumulate(rs.cv_results_['mean_test_score'])\n",
        "\n",
        "plt.plot(y_rs, label = 'RandomizedSearchCV')\n",
        "plt.xlabel('Iteration')\n",
        "plt.ylabel('Negative MSE')\n",
        "plt.title('Number of iterations against the loss for RandomizedSearchCV')\n",
        "plt.show()"
      ],
      "execution_count": 68,
      "outputs": [
        {
          "output_type": "display_data",
          "data": {
            "image/png": "[encoded data removed]",
            "text/plain": [
              "<Figure size 432x288 with 1 Axes>"
            ]
          },
          "metadata": {
            "tags": [],
            "needs_background": "light"
          }
        }
      ]
    },
    {
      "cell_type": "code",
      "metadata": {
        "id": "v0qclL12W8Y5",
        "colab_type": "code",
        "outputId": "4479645d-845b-4e1e-81fe-036b7723cb23",
        "colab": {
          "base_uri": "https://localhost:8080/",
          "height": 357
        }
      },
      "source": [
        "param_dist = {'max_depth': np.arange(start = 10,stop = 110,step=20),\n",
        "              'n_estimators': np.arange(start = 80,stop = 160,step=20), \n",
        "              'max_features':np.arange(start = 1,stop = 10,step=1)}\n",
        "gs = GridSearchCV(reg, param_grid=param_dist, scoring='neg_mean_squared_error')\n",
        "gs.fit(X,y)"
      ],
      "execution_count": 77,
      "outputs": [
        {
          "output_type": "execute_result",
          "data": {
            "text/plain": [
              "GridSearchCV(cv=None, error_score=nan,\n",
              "             estimator=RandomForestRegressor(bootstrap=True, ccp_alpha=0.0,\n",
              "                                             criterion='mse', max_depth=None,\n",
              "                                             max_features='auto',\n",
              "                                             max_leaf_nodes=None,\n",
              "                                             max_samples=None,\n",
              "                                             min_impurity_decrease=0.0,\n",
              "                                             min_impurity_split=None,\n",
              "                                             min_samples_leaf=1,\n",
              "                                             min_samples_split=2,\n",
              "                                             min_weight_fraction_leaf=0.0,\n",
              "                                             n_estimators=100, n_jobs=None,\n",
              "                                             oob_score=False, random_state=None,\n",
              "                                             verbose=0, warm_start=False),\n",
              "             iid='deprecated', n_jobs=None,\n",
              "             param_grid={'max_depth': array([10, 30, 50, 70, 90]),\n",
              "                         'max_features': array([1, 2, 3, 4, 5, 6, 7, 8, 9]),\n",
              "                         'n_estimators': array([ 80, 100, 120, 140])},\n",
              "             pre_dispatch='2*n_jobs', refit=True, return_train_score=False,\n",
              "             scoring='neg_mean_squared_error', verbose=0)"
            ]
          },
          "metadata": {
            "tags": []
          },
          "execution_count": 77
        }
      ]
    },
    {
      "cell_type": "code",
      "metadata": {
        "id": "sdIaf6yZtXEW",
        "colab_type": "code",
        "colab": {
          "base_uri": "https://localhost:8080/",
          "height": 782
        },
        "outputId": "c5939d10-f8e3-43c9-ce43-39adaa46fd73"
      },
      "source": [
        "gs.cv_results_['mean_test_score']"
      ],
      "execution_count": 78,
      "outputs": [
        {
          "output_type": "execute_result",
          "data": {
            "text/plain": [
              "array([-3275.32384269, -3231.88080401, -3258.13648555, -3285.80702444,\n",
              "       -3300.56146862, -3247.65975402, -3175.96097   , -3226.85310517,\n",
              "       -3203.35917792, -3243.07747225, -3235.42872017, -3200.65331241,\n",
              "       -3236.91526794, -3290.62625393, -3269.87915446, -3200.90137475,\n",
              "       -3255.47095791, -3308.28437032, -3265.18815554, -3290.63434579,\n",
              "       -3214.08474525, -3303.74319705, -3282.91542414, -3270.65380006,\n",
              "       -3296.516563  , -3367.73159765, -3315.79446219, -3264.10257081,\n",
              "       -3372.72118445, -3308.22039856, -3285.41268603, -3366.51986282,\n",
              "       -3320.44155864, -3406.23272266, -3331.85311546, -3323.1555401 ,\n",
              "       -3290.78412344, -3332.18940106, -3294.17220979, -3293.90878267,\n",
              "       -3194.43382587, -3231.80033407, -3225.68534848, -3200.1490842 ,\n",
              "       -3198.36419751, -3286.26152202, -3242.30972813, -3243.44337901,\n",
              "       -3223.50700712, -3218.93178254, -3229.8312382 , -3240.44190923,\n",
              "       -3352.31504193, -3294.39588681, -3304.90643535, -3287.71218422,\n",
              "       -3334.60690936, -3306.84156168, -3252.68929076, -3353.416706  ,\n",
              "       -3368.88307315, -3404.79570809, -3323.26446816, -3282.38745776,\n",
              "       -3356.77575635, -3359.99371669, -3338.39364664, -3319.78718797,\n",
              "       -3348.10799348, -3398.08917757, -3421.24313847, -3344.25139076,\n",
              "       -3355.4823486 , -3309.08461032, -3238.79542359, -3272.61813165,\n",
              "       -3233.01362206, -3251.81326942, -3249.71561097, -3277.80712823,\n",
              "       -3249.24782758, -3241.4143658 , -3192.88596635, -3241.57785143,\n",
              "       -3294.72436249, -3262.62981666, -3234.18803381, -3255.98850191,\n",
              "       -3295.19817973, -3290.81350877, -3259.70995209, -3275.04299576,\n",
              "       -3391.9761214 , -3360.28514688, -3310.76593231, -3260.76696366,\n",
              "       -3352.3313768 , -3312.26250668, -3346.67777069, -3302.82570368,\n",
              "       -3307.98497683, -3318.14875204, -3321.48190654, -3350.1789508 ,\n",
              "       -3344.27869486, -3352.23312498, -3290.64716033, -3357.25700321,\n",
              "       -3313.68445201, -3207.31331357, -3295.64731577, -3305.32185394,\n",
              "       -3241.88676532, -3247.71037213, -3232.19124495, -3281.7721823 ,\n",
              "       -3184.6378505 , -3236.86193327, -3286.19922674, -3218.32878474,\n",
              "       -3295.02387613, -3246.36134845, -3259.9851209 , -3242.75568827,\n",
              "       -3282.4988098 , -3276.2778005 , -3241.04198267, -3278.94818796,\n",
              "       -3284.36424985, -3323.92345983, -3307.18796522, -3300.41184163,\n",
              "       -3344.35440905, -3373.36042109, -3293.41347624, -3343.44325029,\n",
              "       -3370.54559314, -3350.15699459, -3348.18718853, -3295.92904477,\n",
              "       -3392.59230626, -3368.85283263, -3352.85944744, -3345.70059367,\n",
              "       -3194.83347665, -3222.23586589, -3310.38782238, -3255.68710639,\n",
              "       -3248.37529657, -3249.83584362, -3211.52218374, -3194.83443411,\n",
              "       -3240.89415574, -3233.37287481, -3285.93371797, -3231.86890806,\n",
              "       -3336.48232206, -3265.10599305, -3242.30836194, -3278.49724929,\n",
              "       -3284.78450085, -3273.63927691, -3252.01582596, -3330.71904659,\n",
              "       -3321.97736318, -3303.83565915, -3294.24162309, -3279.12263751,\n",
              "       -3365.16008412, -3280.20797721, -3323.21099582, -3326.8530243 ,\n",
              "       -3366.70670729, -3271.60547737, -3322.38894843, -3365.20326256,\n",
              "       -3390.85495247, -3330.85250359, -3293.4914732 , -3285.6949301 ])"
            ]
          },
          "metadata": {
            "tags": []
          },
          "execution_count": 78
        }
      ]
    },
    {
      "cell_type": "code",
      "metadata": {
        "id": "GQObEdkcXB2H",
        "colab_type": "code",
        "outputId": "5b4a4fb2-d265-4534-d03c-07b650514466",
        "colab": {
          "base_uri": "https://localhost:8080/",
          "height": 295
        }
      },
      "source": [
        "\n",
        "y_gs = np.maximum.accumulate(gs.cv_results_['mean_test_score'])\n",
        "\n",
        "plt.plot(y_gs, label = 'GridSearchCV')\n",
        "plt.xlabel('Iteration')\n",
        "plt.ylabel('Negative MSE')\n",
        "plt.title('Number of iterations against the loss for GridSearchCV')\n",
        "plt.show()"
      ],
      "execution_count": 79,
      "outputs": [
        {
          "output_type": "display_data",
          "data": {
            "image/png": "[encoded data removed]",
            "text/plain": [
              "<Figure size 432x288 with 1 Axes>"
            ]
          },
          "metadata": {
            "tags": [],
            "needs_background": "light"
          }
        }
      ]
    },
    {
      "cell_type": "code",
      "metadata": {
        "id": "Ko_JzIygbcTq",
        "colab_type": "code",
        "outputId": "8f07b07a-79fc-47c5-9b4f-76676dde7305",
        "colab": {
          "base_uri": "https://localhost:8080/",
          "height": 629
        }
      },
      "source": [
        "!pip install GPy\n",
        "!pip install GPyOpt"
      ],
      "execution_count": 11,
      "outputs": [
        {
          "output_type": "stream",
          "text": [
            "Collecting GPy\n",
            "\u001b[?25l  Downloading https://files.pythonhosted.org/packages/67/95/976598f98adbfa918a480cb2d643f93fb555ca5b6c5614f76b69678114c1/GPy-1.9.9.tar.gz (995kB)\n",
            "\u001b[K     |████████████████████████████████| 1.0MB 2.7MB/s \n",
            "\u001b[?25hRequirement already satisfied: numpy>=1.7 in /usr/local/lib/python3.6/dist-packages (from GPy) (1.18.5)\n",
            "Requirement already satisfied: scipy>=0.16 in /usr/local/lib/python3.6/dist-packages (from GPy) (1.4.1)\n",
            "Requirement already satisfied: six in /usr/local/lib/python3.6/dist-packages (from GPy) (1.12.0)\n",
            "Collecting paramz>=0.9.0\n",
            "\u001b[?25l  Downloading https://files.pythonhosted.org/packages/d8/37/4abbeb78d30f20d3402887f46e6e9f3ef32034a9dea65d243654c82c8553/paramz-0.9.5.tar.gz (71kB)\n",
            "\u001b[K     |████████████████████████████████| 71kB 7.1MB/s \n",
            "\u001b[?25hRequirement already satisfied: decorator>=4.0.10 in /usr/local/lib/python3.6/dist-packages (from paramz>=0.9.0->GPy) (4.4.2)\n",
            "Building wheels for collected packages: GPy, paramz\n",
            "  Building wheel for GPy (setup.py) ... \u001b[?25l\u001b[?25hdone\n",
            "  Created wheel for GPy: filename=GPy-1.9.9-cp36-cp36m-linux_x86_64.whl size=2633909 sha256=974fd55f2952897820769b5880da74093c80a22e9d045559f6e0040754817b88\n",
            "  Stored in directory: /root/.cache/pip/wheels/5d/36/66/2b58860c84c9f2b51615da66bfd6feeddbc4e04d887ff96dfa\n",
            "  Building wheel for paramz (setup.py) ... \u001b[?25l\u001b[?25hdone\n",
            "  Created wheel for paramz: filename=paramz-0.9.5-cp36-none-any.whl size=102552 sha256=f55a0827bfe9f84511ce45655366e31d588155d321bb5070ba14cfd29c985cc4\n",
            "  Stored in directory: /root/.cache/pip/wheels/c8/4a/0e/6e0dc85541825f991c431619e25b870d4b812c911214690cf8\n",
            "Successfully built GPy paramz\n",
            "Installing collected packages: paramz, GPy\n",
            "Successfully installed GPy-1.9.9 paramz-0.9.5\n",
            "Collecting GPyOpt\n",
            "\u001b[?25l  Downloading https://files.pythonhosted.org/packages/52/be/669d505416d7e465b2aef7df3b58d590f56468c4f7dc50c91fe91b8a78d9/GPyOpt-1.2.6.tar.gz (56kB)\n",
            "\u001b[K     |████████████████████████████████| 61kB 1.9MB/s \n",
            "\u001b[?25hRequirement already satisfied: numpy>=1.7 in /usr/local/lib/python3.6/dist-packages (from GPyOpt) (1.18.5)\n",
            "Requirement already satisfied: scipy>=0.16 in /usr/local/lib/python3.6/dist-packages (from GPyOpt) (1.4.1)\n",
            "Requirement already satisfied: GPy>=1.8 in /usr/local/lib/python3.6/dist-packages (from GPyOpt) (1.9.9)\n",
            "Requirement already satisfied: paramz>=0.9.0 in /usr/local/lib/python3.6/dist-packages (from GPy>=1.8->GPyOpt) (0.9.5)\n",
            "Requirement already satisfied: six in /usr/local/lib/python3.6/dist-packages (from GPy>=1.8->GPyOpt) (1.12.0)\n",
            "Requirement already satisfied: decorator>=4.0.10 in /usr/local/lib/python3.6/dist-packages (from paramz>=0.9.0->GPy>=1.8->GPyOpt) (4.4.2)\n",
            "Building wheels for collected packages: GPyOpt\n",
            "  Building wheel for GPyOpt (setup.py) ... \u001b[?25l\u001b[?25hdone\n",
            "  Created wheel for GPyOpt: filename=GPyOpt-1.2.6-cp36-none-any.whl size=83623 sha256=3d829c6eee5adc5b135ed80cd798ecbb012b6f507dfb07f90d825106aea03da2\n",
            "  Stored in directory: /root/.cache/pip/wheels/b2/00/69/cfa967a125cf25e66f644be6193ad6f0edf231147879ad714f\n",
            "Successfully built GPyOpt\n",
            "Installing collected packages: GPyOpt\n",
            "Successfully installed GPyOpt-1.2.6\n"
          ],
          "name": "stdout"
        }
      ]
    },
    {
      "cell_type": "code",
      "metadata": {
        "id": "-5H_rm06l73c",
        "colab_type": "code",
        "colab": {
          "base_uri": "https://localhost:8080/",
          "height": 34
        },
        "outputId": "471ec8cb-a4ed-421c-89e4-2652f9cd1451"
      },
      "source": [
        " np.append(np.arange(start = 10,stop = 110,step=20),None),\n",
        " "
      ],
      "execution_count": 52,
      "outputs": [
        {
          "output_type": "execute_result",
          "data": {
            "text/plain": [
              "(0, 1, 2, 3, 4, 5, 6, 7, 8, 9)"
            ]
          },
          "metadata": {
            "tags": []
          },
          "execution_count": 52
        }
      ]
    },
    {
      "cell_type": "code",
      "metadata": {
        "id": "VdjxhKjdahko",
        "colab_type": "code",
        "outputId": "32b02e94-f77d-4e58-ee68-1a7560f23e7f",
        "colab": {
          "base_uri": "https://localhost:8080/",
          "height": 136
        }
      },
      "source": [
        "\n",
        "# Bayesian Optimization\n",
        "import GPy\n",
        "import GPyOpt\n",
        "from GPyOpt.methods import BayesianOptimization\n",
        "\n",
        "bds = [{'name':'max_depth', 'type':'discrete', 'domain':(tuple(np.arange(start = 10,stop = 110,step=20)))},\n",
        "       {'name':'n_estimators', 'type':'discrete', 'domain':(tuple(np.arange(start = 80,stop = 160,step=5)))},\n",
        "       {'name':'max_features', 'type':'discrete', 'domain':(tuple(np.arange(start = 0,stop = 11,step=1)))}]\n",
        "\n",
        "optimizer = BayesianOptimization(f=L, model_type='GP', acquisition_type='EI', domain=bds, maximize=True)\n",
        "optimizer.run_optimization(max_iter=20)"
      ],
      "execution_count": 61,
      "outputs": [
        {
          "output_type": "stream",
          "text": [
            "[[30. 80. 10.]]\n",
            "[[ 30. 155.  10.]]\n",
            "[[10. 80.  1.]]\n",
            "[[70. 80. 10.]]\n",
            "[[ 10. 150.   8.]]\n",
            "[[10 80  1]]\n",
            "[[10 80  1]]\n"
          ],
          "name": "stdout"
        }
      ]
    },
    {
      "cell_type": "code",
      "metadata": {
        "id": "lnQfpNUlrl0a",
        "colab_type": "code",
        "colab": {}
      },
      "source": [
        "optimizer.plot_acquisition()"
      ],
      "execution_count": 0,
      "outputs": []
    },
    {
      "cell_type": "code",
      "metadata": {
        "id": "8ibEV50Arovx",
        "colab_type": "code",
        "colab": {
          "base_uri": "https://localhost:8080/",
          "height": 350
        },
        "outputId": "cd97b22e-5a65-4b82-e394-01ea59229bc5"
      },
      "source": [
        "optimizer.plot_convergence()"
      ],
      "execution_count": 64,
      "outputs": [
        {
          "output_type": "display_data",
          "data": {
            "image/png": "[encoded data removed]",
            "text/plain": [
              "<Figure size 720x360 with 2 Axes>"
            ]
          },
          "metadata": {
            "tags": [],
            "needs_background": "light"
          }
        }
      ]
    },
    {
      "cell_type": "code",
      "metadata": {
        "id": "azDlOkucrxqq",
        "colab_type": "code",
        "colab": {
          "base_uri": "https://localhost:8080/",
          "height": 388
        },
        "outputId": "e966272d-934e-48cb-9c47-288b6974f7d1"
      },
      "source": [
        "y_rs = np.maximum.accumulate(rs.cv_results_['mean_test_score'])\n",
        "y_gs = np.maximum.accumulate(gs.cv_results_['mean_test_score'])\n",
        "y_bo = np.maximum.accumulate(-optimizer.Y).ravel()\n",
        "\n",
        "plt.figure(figsize=(6,6))\n",
        "plt.plot(y_rs, 'ro', label='Random Search')\n",
        "plt.plot(y_gs, 'bo', label='Grid Search')\n",
        "plt.plot(y_bo, 'go', label='Bayesian Optimization')\n",
        "plt.xlabel('Iteration')\n",
        "plt.ylabel('Negative MSE')\n",
        "plt.legend(loc='right');"
      ],
      "execution_count": 80,
      "outputs": [
        {
          "output_type": "display_data",
          "data": {
            "image/png": "[encoded data removed]",
            "text/plain": [
              "<Figure size 432x432 with 1 Axes>"
            ]
          },
          "metadata": {
            "tags": [],
            "needs_background": "light"
          }
        }
      ]
    }
  ]
}